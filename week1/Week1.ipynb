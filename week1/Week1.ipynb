{
 "cells": [
  {
   "cell_type": "code",
   "execution_count": 3,
   "metadata": {
    "dotnet_interactive": {
     "language": "html"
    },
    "polyglot_notebook": {
     "kernelName": "html"
    },
    "vscode": {
     "languageId": "polyglot-notebook"
    }
   },
   "outputs": [
    {
     "data": {
      "text/html": [
       "<!DOCTYPE HTML> \r\n",
       "<head> \r\n",
       "    <title>ShopTime website</title>\r\n",
       "    <meta name=\"description\" content=\"ShopTime is an online shopping website that sells goods in \r\n",
       "    retail. This company deals with various categories like Electronics, Clothing, Accessories etc\">\r\n",
       "    <meta name=\"keywords\" content=\"clothing,footwear,shopping\">\r\n",
       "    <meta name=\"author\" content=\"Myself\">\r\n",
       "    <meta name=\"viewport\" content=\"width=device-width, initial-scale=1.0\">\r\n",
       "</Head>\r\n",
       "<body bgcolor=\"cyan\">\r\n",
       "    <h1 align=\"center\"><i>ShopTime<i></h1>\r\n",
       "    <h2 align=\"center\"><i>One stop for all your needs<i></h2>\r\n",
       "    <p>Here we are using meta tags like charset,name,author etc.</p>\r\n",
       "</body></html>"
      ]
     },
     "metadata": {},
     "output_type": "display_data"
    }
   ],
   "source": [
    "<!DOCTYPE HTML> \n",
    "<head> \n",
    "    <title>ShopTime website</title>\n",
    "    <meta name=\"description\" content=\"ShopTime is an online shopping website that sells goods in \n",
    "    retail. This company deals with various categories like Electronics, Clothing, Accessories etc\">\n",
    "    <meta name=\"keywords\" content=\"clothing,footwear,shopping\">\n",
    "    <meta name=\"author\" content=\"Myself\">\n",
    "    <meta name=\"viewport\" content=\"width=device-width, initial-scale=1.0\">\n",
    "</Head>\n",
    "<body bgcolor=\"cyan\">\n",
    "    <h1 align=\"center\"><i>ShopTime<i></h1>\n",
    "    <h2 align=\"center\"><i>One stop for all your needs<i></h2>\n",
    "    <p>Here we are using meta tags like charset,name,author etc.</p>\n",
    "</body></html>"
   ]
  },
  {
   "cell_type": "code",
   "execution_count": 5,
   "metadata": {
    "dotnet_interactive": {
     "language": "html"
    },
    "polyglot_notebook": {
     "kernelName": "html"
    },
    "vscode": {
     "languageId": "polyglot-notebook"
    }
   },
   "outputs": [
    {
     "data": {
      "text/html": [
       "<!DOCTYPE HTML>\r\n",
       "<head>\r\n",
       "    <title>ShopTime website</title>\r\n",
       "</Head>\r\n",
       "<body bgcolor=\"cyan\">\r\n",
       "    <h1 align=\"center\"><i>ShopTime<i></h1>\r\n",
       "    <h2 align=\"center\"><i>One stop for all your needs<i></h2>\r\n",
       "    <nav align=\"center\">\r\n",
       "        <h3>Home || Login || Register || Wishlist || My Orders || Help</h3>\r\n",
       "    </nav>\r\n",
       "    <main>\r\n",
       "        <section>\r\n",
       "            <p bgcolor='red'>Clothing</p>\r\n",
       "        </section>\r\n",
       "        <section>\r\n",
       "            <p>Footwear</p>\r\n",
       "        </section>\r\n",
       "        <section>\r\n",
       "            <p>Electronics</p>\r\n",
       "        </section>\r\n",
       "        <section>\r\n",
       "            <p>Furniture</p>\r\n",
       "        </section>\r\n",
       "        <section>\r\n",
       "            <p>Cosmetics</p>\r\n",
       "        </section>\r\n",
       "    </main>\r\n",
       "        <article>\r\n",
       "            <h1>Special Offer</h1>\r\n",
       "        <aside>\r\n",
       "            <p>Download our app at PlayStore and win exciting prizes.</p></aside>\r\n",
       "        </article>\r\n",
       "</body>\r\n",
       "    <footer>\r\n",
       "    Copyright @ WayFar, 2020 \r\n",
       "    </footer>\r\n",
       "</html>"
      ]
     },
     "metadata": {},
     "output_type": "display_data"
    }
   ],
   "source": [
    "<!DOCTYPE HTML>\n",
    "<head>\n",
    "    <title>ShopTime website</title>\n",
    "</Head>\n",
    "<body bgcolor=\"cyan\">\n",
    "    <h1 align=\"center\"><i>ShopTime<i></h1>\n",
    "    <h2 align=\"center\"><i>One stop for all your needs<i></h2>\n",
    "    <nav align=\"center\">\n",
    "        <h3>Home || Login || Register || Wishlist || My Orders || Help</h3>\n",
    "    </nav>\n",
    "    <main>\n",
    "        <section>\n",
    "            <p bgcolor='red'>Clothing</p>\n",
    "        </section>\n",
    "        <section>\n",
    "            <p>Footwear</p>\n",
    "        </section>\n",
    "        <section>\n",
    "            <p>Electronics</p>\n",
    "        </section>\n",
    "        <section>\n",
    "            <p>Furniture</p>\n",
    "        </section>\n",
    "        <section>\n",
    "            <p>Cosmetics</p>\n",
    "        </section>\n",
    "    </main>\n",
    "        <article>\n",
    "            <h1>Special Offer</h1>\n",
    "        <aside>\n",
    "            <p>Download our app at PlayStore and win exciting prizes.</p></aside>\n",
    "        </article>\n",
    "</body>\n",
    "    <footer>\n",
    "    Copyright @ WayFar, 2020 \n",
    "    </footer>\n",
    "</html>"
   ]
  },
  {
   "cell_type": "code",
   "execution_count": 1,
   "metadata": {
    "dotnet_interactive": {
     "language": "html"
    },
    "polyglot_notebook": {
     "kernelName": "html"
    },
    "vscode": {
     "languageId": "polyglot-notebook"
    }
   },
   "outputs": [
    {
     "data": {
      "text/html": [
       "<!DOCTYPE html>\r\n",
       "<html lang=\"en\">\r\n",
       "<head>\r\n",
       "    <meta charset=\"UTF-8\">\r\n",
       "    <meta http-equiv=\"X-UA-Compatible\" content=\"IE=edge\">\r\n",
       "    <meta name=\"viewport\" content=\"width=device-width, initial-scale=1.0\">\r\n",
       "    <title>Document</title>\r\n",
       "</head>\r\n",
       "<body>\r\n",
       "    <h1 align=\"center\"><i>ShopTime</i></h1>\r\n",
       "    <h2 align=\"center\"><i>One Stop for all your needs</i></h2>\r\n",
       "    <nav align=\"center\">\r\n",
       "        <h3>Home || Login || Track Order</h3>\r\n",
       "    </nav>\r\n",
       "    <center>\r\n",
       "        <p>\r\n",
       "            <img src=\"logo.png\" alt=\"Top shopping brands\" width=\"950\" height=\"300\">\r\n",
       "        </p>\r\n",
       "    </center>\r\n",
       "</body>\r\n",
       "<footer>\r\n",
       "    <a href=\"aboutus.html\">About Us</a>\r\n",
       "</footer>\r\n",
       "</html>"
      ]
     },
     "metadata": {},
     "output_type": "display_data"
    }
   ],
   "source": [
    "<!DOCTYPE html>\n",
    "<html lang=\"en\">\n",
    "<head>\n",
    "    <meta charset=\"UTF-8\">\n",
    "    <meta http-equiv=\"X-UA-Compatible\" content=\"IE=edge\">\n",
    "    <meta name=\"viewport\" content=\"width=device-width, initial-scale=1.0\">\n",
    "    <title>Document</title>\n",
    "</head>\n",
    "<body>\n",
    "    <h1 align=\"center\"><i>ShopTime</i></h1>\n",
    "    <h2 align=\"center\"><i>One Stop for all your needs</i></h2>\n",
    "    <nav align=\"center\">\n",
    "        <h3>Home || Login || Track Order</h3>\n",
    "    </nav>\n",
    "    <center>\n",
    "        <p>\n",
    "            <img src=\"logo.png\" alt=\"Top shopping brands\" width=\"950\" height=\"300\">\n",
    "        </p>\n",
    "    </center>\n",
    "</body>\n",
    "<footer>\n",
    "    <a href=\"aboutus.html\">About Us</a>\n",
    "</footer>\n",
    "</html>"
   ]
  },
  {
   "cell_type": "code",
   "execution_count": 2,
   "metadata": {
    "dotnet_interactive": {
     "language": "html"
    },
    "polyglot_notebook": {
     "kernelName": "html"
    },
    "vscode": {
     "languageId": "polyglot-notebook"
    }
   },
   "outputs": [
    {
     "data": {
      "text/html": [
       "<!DOCTYPE html>\r\n",
       "<html lang=\"en\">\r\n",
       "<head>\r\n",
       "    <meta charset=\"UTF-8\">\r\n",
       "    <meta http-equiv=\"X-UA-Compatible\" content=\"IE=edge\">\r\n",
       "    <meta name=\"viewport\" content=\"width=device-width, initial-scale=1.0\">\r\n",
       "    <title>ShopTime website</title>\r\n",
       "</head>\r\n",
       "<body bgcolor=\"lavender\">\r\n",
       "    <h1 align=\"center\">\r\n",
       "        <i>ShopTime</i>\r\n",
       "    </h1>\r\n",
       "    \r\n",
       "    <h2 align=\"center\">\r\n",
       "        <i>One stop for all your needs</i>\r\n",
       "    </h2>\r\n",
       "    \r\n",
       "    <nav align=\"center\">\r\n",
       "        <h3>\r\n",
       "            <a href=\"home.html\">Home</a>||\r\n",
       "            <a href=\"login.html\">Login</a>||\r\n",
       "            <a href=\"trackorder.html\">TrackOrder</a>\r\n",
       "        </h3>\r\n",
       "    </nav>\r\n",
       "    <center>\r\n",
       "        <p>\r\n",
       "            <img src=\"homeimg.png\" alt=\"Top shopping brands\" width=\"1350\" height=\"300\">\r\n",
       "        </p>\r\n",
       "    </center>\r\n",
       "</body>\r\n",
       "</html>"
      ]
     },
     "metadata": {},
     "output_type": "display_data"
    }
   ],
   "source": [
    "<!DOCTYPE html>\n",
    "<html lang=\"en\">\n",
    "<head>\n",
    "    <meta charset=\"UTF-8\">\n",
    "    <meta http-equiv=\"X-UA-Compatible\" content=\"IE=edge\">\n",
    "    <meta name=\"viewport\" content=\"width=device-width, initial-scale=1.0\">\n",
    "    <title>ShopTime website</title>\n",
    "</head>\n",
    "<body bgcolor=\"lavender\">\n",
    "    <h1 align=\"center\">\n",
    "        <i>ShopTime</i>\n",
    "    </h1>\n",
    "    \n",
    "    <h2 align=\"center\">\n",
    "        <i>One stop for all your needs</i>\n",
    "    </h2>\n",
    "    \n",
    "    <nav align=\"center\">\n",
    "        <h3>\n",
    "            <a href=\"home.html\">Home</a>||\n",
    "            <a href=\"login.html\">Login</a>||\n",
    "            <a href=\"trackorder.html\">TrackOrder</a>\n",
    "        </h3>\n",
    "    </nav>\n",
    "    <center>\n",
    "        <p>\n",
    "            <img src=\"homeimg.png\" alt=\"Top shopping brands\" width=\"1350\" height=\"300\">\n",
    "        </p>\n",
    "    </center>\n",
    "</body>\n",
    "</html>"
   ]
  },
  {
   "cell_type": "code",
   "execution_count": 3,
   "metadata": {
    "dotnet_interactive": {
     "language": "html"
    },
    "polyglot_notebook": {
     "kernelName": "html"
    },
    "vscode": {
     "languageId": "polyglot-notebook"
    }
   },
   "outputs": [
    {
     "data": {
      "text/html": [
       "<!DOCTYPE html>\r\n",
       "<html lang=\"en\">\r\n",
       "<head>\r\n",
       "    <meta charset=\"UTF-8\">\r\n",
       "    <meta http-equiv=\"X-UA-Compatible\" content=\"IE=edge\">\r\n",
       "    <meta name=\"viewport\" content=\"width=device-width, initial-scale=1.0\">\r\n",
       "    <title>ShopTime website</title>\r\n",
       "</head>\r\n",
       "<body>\r\n",
       "    <h1 align=\"center\"><i>ShopTime</i></h1>\r\n",
       "    <h2 align=\"center\"><i>One stop for all your needs</i></h2>\r\n",
       "    <nav align=center>\r\n",
       "        <h3>\r\n",
       "            <a href=\"home.html\">Home</a>||\r\n",
       "            <a href=\"login.html\">Login</a>||\r\n",
       "            <a href=\"trackorder.html\">Track Order</a>\r\n",
       "        </h3>\r\n",
       "    </nav>\r\n",
       "    <center>\r\n",
       "        <p>\r\n",
       "            <img src=\"TSB.png\" alt=\"Top Shopping brands\" width=\"950\" height=\"300\">\r\n",
       "        </p>\r\n",
       "    </center>\r\n",
       "</body>\r\n",
       "<footer>\r\n",
       "    &copy;ShopTime,2020\r\n",
       "</footer>\r\n",
       "</html>"
      ]
     },
     "metadata": {},
     "output_type": "display_data"
    }
   ],
   "source": [
    "<!DOCTYPE html>\n",
    "<html lang=\"en\">\n",
    "<head>\n",
    "    <meta charset=\"UTF-8\">\n",
    "    <meta http-equiv=\"X-UA-Compatible\" content=\"IE=edge\">\n",
    "    <meta name=\"viewport\" content=\"width=device-width, initial-scale=1.0\">\n",
    "    <title>ShopTime website</title>\n",
    "</head>\n",
    "<body>\n",
    "    <h1 align=\"center\"><i>ShopTime</i></h1>\n",
    "    <h2 align=\"center\"><i>One stop for all your needs</i></h2>\n",
    "    <nav align=center>\n",
    "        <h3>\n",
    "            <a href=\"home.html\">Home</a>||\n",
    "            <a href=\"login.html\">Login</a>||\n",
    "            <a href=\"trackorder.html\">Track Order</a>\n",
    "        </h3>\n",
    "    </nav>\n",
    "    <center>\n",
    "        <p>\n",
    "            <img src=\"TSB.png\" alt=\"Top Shopping brands\" width=\"950\" height=\"300\">\n",
    "        </p>\n",
    "    </center>\n",
    "</body>\n",
    "<footer>\n",
    "    &copy;ShopTime,2020\n",
    "</footer>\n",
    "</html>"
   ]
  },
  {
   "cell_type": "code",
   "execution_count": 4,
   "metadata": {
    "dotnet_interactive": {
     "language": "html"
    },
    "polyglot_notebook": {
     "kernelName": "html"
    },
    "vscode": {
     "languageId": "polyglot-notebook"
    }
   },
   "outputs": [
    {
     "data": {
      "text/html": [
       "<!DOCTYPE html>\r\n",
       "<html lang=\"en\">\r\n",
       "<head>\r\n",
       "    <meta charset=\"UTF-8\">\r\n",
       "    <meta http-equiv=\"X-UA-Compatible\" content=\"IE=edge\">\r\n",
       "    <meta name=\"viewport\" content=\"width=device-width, initial-scale=1.0\">\r\n",
       "    <title>ShopTime</title>\r\n",
       "</head>\r\n",
       "<body bgcolor=\"cadetblue\">\r\n",
       "    <h1 align=\"center\"><i>ShopTime</i></h1>\r\n",
       "    <form action=\"\">\r\n",
       "        <center>\r\n",
       "            <h3>Sign up</h3>\r\n",
       "            <table>\r\n",
       "                <tr>\r\n",
       "                    <td>Name:</td>\r\n",
       "                    <td><input type=\"text\"></td>\r\n",
       "                </tr>\r\n",
       "                <tr>\r\n",
       "                    <td>Email:</td>\r\n",
       "                    <td><input type=\"email\" contenteditable=\"true\" spellcheck=\"true\"></td>\r\n",
       "                </tr>\r\n",
       "                <tr>\r\n",
       "                    <td>User Name:</td>\r\n",
       "                    <td><input type=\"text\"></td>\r\n",
       "                </tr>\r\n",
       "                <tr>\r\n",
       "                    <td>Date of birth:</td>\r\n",
       "                    <td><input type=\"date\"></td>\r\n",
       "                </tr>\r\n",
       "                <tr>\r\n",
       "                    <td>Password:</td>\r\n",
       "                    <td><input type=\"password\"></td>\r\n",
       "                </tr>\r\n",
       "                <tr>\r\n",
       "                    <td>Confirm Password:</td>\r\n",
       "                    <td><input type=\"password\"></td>\r\n",
       "                </tr>\r\n",
       "                <tr>\r\n",
       "                    <td></td>\r\n",
       "                    <td align=\"center\"><input type=\"submit\"></td>\r\n",
       "                </tr>\r\n",
       "            </table>\r\n",
       "        </center>\r\n",
       "    </form>\r\n",
       "</body>\r\n",
       "</html>"
      ]
     },
     "metadata": {},
     "output_type": "display_data"
    }
   ],
   "source": [
    "<!DOCTYPE html>\n",
    "<html lang=\"en\">\n",
    "<head>\n",
    "    <meta charset=\"UTF-8\">\n",
    "    <meta http-equiv=\"X-UA-Compatible\" content=\"IE=edge\">\n",
    "    <meta name=\"viewport\" content=\"width=device-width, initial-scale=1.0\">\n",
    "    <title>ShopTime</title>\n",
    "</head>\n",
    "<body bgcolor=\"cadetblue\">\n",
    "    <h1 align=\"center\"><i>ShopTime</i></h1>\n",
    "    <form action=\"\">\n",
    "        <center>\n",
    "            <h3>Sign up</h3>\n",
    "            <table>\n",
    "                <tr>\n",
    "                    <td>Name:</td>\n",
    "                    <td><input type=\"text\"></td>\n",
    "                </tr>\n",
    "                <tr>\n",
    "                    <td>Email:</td>\n",
    "                    <td><input type=\"email\" contenteditable=\"true\" spellcheck=\"true\"></td>\n",
    "                </tr>\n",
    "                <tr>\n",
    "                    <td>User Name:</td>\n",
    "                    <td><input type=\"text\"></td>\n",
    "                </tr>\n",
    "                <tr>\n",
    "                    <td>Date of birth:</td>\n",
    "                    <td><input type=\"date\"></td>\n",
    "                </tr>\n",
    "                <tr>\n",
    "                    <td>Password:</td>\n",
    "                    <td><input type=\"password\"></td>\n",
    "                </tr>\n",
    "                <tr>\n",
    "                    <td>Confirm Password:</td>\n",
    "                    <td><input type=\"password\"></td>\n",
    "                </tr>\n",
    "                <tr>\n",
    "                    <td></td>\n",
    "                    <td align=\"center\"><input type=\"submit\"></td>\n",
    "                </tr>\n",
    "            </table>\n",
    "        </center>\n",
    "    </form>\n",
    "</body>\n",
    "</html>"
   ]
  }
 ],
 "metadata": {
  "language_info": {
   "name": "python"
  },
  "orig_nbformat": 4
 },
 "nbformat": 4,
 "nbformat_minor": 2
}
