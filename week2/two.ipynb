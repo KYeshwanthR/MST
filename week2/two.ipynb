{
 "cells": [
  {
   "cell_type": "code",
   "execution_count": 4,
   "metadata": {
    "dotnet_interactive": {
     "language": "html"
    },
    "polyglot_notebook": {
     "kernelName": "html"
    },
    "vscode": {
     "languageId": "polyglot-notebook"
    }
   },
   "outputs": [
    {
     "data": {
      "text/html": [
       "<!DOCTYPE html>\r\n",
       "<html lang=\"en\">\r\n",
       "<head>\r\n",
       "    <meta charset=\"UTF-8\">\r\n",
       "    <meta http-equiv=\"X-UA-Compatible\" content=\"IE=edge\">\r\n",
       "    <meta name=\"viewport\" content=\"width=device-width, initial-scale=1.0\">\r\n",
       "    <title>StopTime Website</title>\r\n",
       "</head>\r\n",
       "<body>\r\n",
       "    <table cellspacing=\"1\" cellpadding=\"0\" border=\"1\" align=\"center\">\r\n",
       "        <caption>\r\n",
       "            <h1>Electronics</h1>\r\n",
       "        </caption>\r\n",
       "        <tr>\r\n",
       "            <th>product name</th>\r\n",
       "            <th>product image</th>\r\n",
       "        </tr>\r\n",
       "        <tr bgcolor=\"white\">\r\n",
       "            <td>Smartwatches & fitness trackers</td>\r\n",
       "            <td>\r\n",
       "                <img src=\"smartwatch.jpg\" alt=\"\" width=\"120px\" height=\"120px\">\r\n",
       "            </td>\r\n",
       "        </tr>\r\n",
       "        <tr bgcolor=\"white\">\r\n",
       "            <td>Earbuds</td>\r\n",
       "            <td>\r\n",
       "                <img src=\"eb.jpg\" alt=\"\" width=\"120px\" height=\"120px\">\r\n",
       "            </td>\r\n",
       "        </tr>\r\n",
       "        <tr bgcolor=\"white\">\r\n",
       "            <td>Speakers</td>\r\n",
       "            <td>\r\n",
       "                <img src=\"speaker.jpg\" alt=\"\" width=\"130px\" height=\"130px\">\r\n",
       "            </td>\r\n",
       "        </tr>\r\n",
       "    </table>\r\n",
       "</body>\r\n",
       "</html>"
      ]
     },
     "metadata": {},
     "output_type": "display_data"
    }
   ],
   "source": [
    "<!DOCTYPE html>\n",
    "<html lang=\"en\">\n",
    "<head>\n",
    "    <meta charset=\"UTF-8\">\n",
    "    <meta http-equiv=\"X-UA-Compatible\" content=\"IE=edge\">\n",
    "    <meta name=\"viewport\" content=\"width=device-width, initial-scale=1.0\">\n",
    "    <title>StopTime Website</title>\n",
    "</head>\n",
    "<body>\n",
    "    <table cellspacing=\"1\" cellpadding=\"0\" border=\"1\" align=\"center\">\n",
    "        <caption>\n",
    "            <h1>Electronics</h1>\n",
    "        </caption>\n",
    "        <tr>\n",
    "            <th>product name</th>\n",
    "            <th>product image</th>\n",
    "        </tr>\n",
    "        <tr bgcolor=\"white\">\n",
    "            <td>Smartwatches & fitness trackers</td>\n",
    "            <td>\n",
    "                <img src=\"smartwatch.jpg\" alt=\"\" width=\"120px\" height=\"120px\">\n",
    "            </td>\n",
    "        </tr>\n",
    "        <tr bgcolor=\"white\">\n",
    "            <td>Earbuds</td>\n",
    "            <td>\n",
    "                <img src=\"eb.jpg\" alt=\"\" width=\"120px\" height=\"120px\">\n",
    "            </td>\n",
    "        </tr>\n",
    "        <tr bgcolor=\"white\">\n",
    "            <td>Speakers</td>\n",
    "            <td>\n",
    "                <img src=\"speaker.jpg\" alt=\"\" width=\"130px\" height=\"130px\">\n",
    "            </td>\n",
    "        </tr>\n",
    "    </table>\n",
    "</body>\n",
    "</html>"
   ]
  },
  {
   "cell_type": "code",
   "execution_count": 5,
   "metadata": {
    "dotnet_interactive": {
     "language": "html"
    },
    "polyglot_notebook": {
     "kernelName": "html"
    },
    "vscode": {
     "languageId": "polyglot-notebook"
    }
   },
   "outputs": [
    {
     "data": {
      "text/html": [
       "<!DOCTYPE html>\r\n",
       "<html lang=\"en\">\r\n",
       "<head>\r\n",
       "    <meta charset=\"UTF-8\">\r\n",
       "    <meta http-equiv=\"X-UA-Compatible\" content=\"IE=edge\">\r\n",
       "    <meta name=\"viewport\" content=\"width=device-width, initial-scale=1.0\">\r\n",
       "    <title>ShopTime</title>\r\n",
       "</head>\r\n",
       "<body>\r\n",
       "    <form action=\"\" align=\"center\">\r\n",
       "        <table align=\"center\">\r\n",
       "            <caption><h1>Sign Up</h1></caption>\r\n",
       "            <tr>\r\n",
       "                <td>\r\n",
       "                    <label for=\"\">First Name:</label>\r\n",
       "                    <td><input type=\"text\"></td>\r\n",
       "                </td>\r\n",
       "            </tr>\r\n",
       "            <tr>\r\n",
       "                <td>\r\n",
       "                    <label for=\"\">Email:</label>\r\n",
       "                    <td><input type=\"email\"></td>\r\n",
       "                </td>\r\n",
       "            </tr>\r\n",
       "            <tr>\r\n",
       "                <td>\r\n",
       "                    <label for=\"\">Date of birth:</label>\r\n",
       "                    <td><input type=\"date\"></td>\r\n",
       "                </td>\r\n",
       "            </tr>\r\n",
       "            <tr>\r\n",
       "                <td>\r\n",
       "                    <label for=\"\">Gender:</label>\r\n",
       "                    <td>\r\n",
       "                        <input type=\"radio\" name=\"gender\" value=\"male\">Male\r\n",
       "                        <input type=\"radio\" name=\"gender\" value=\"female\">Female\r\n",
       "                    </td>\r\n",
       "                </td>\r\n",
       "            </tr>\r\n",
       "            <tr>\r\n",
       "                <td>\r\n",
       "                    <label for=\"\">First Name:</label>\r\n",
       "                    <td><input type=\"text\"></td>\r\n",
       "                </td>\r\n",
       "            </tr>\r\n",
       "        </table>\r\n",
       "    </form>\r\n",
       "</body>\r\n",
       "</html>"
      ]
     },
     "metadata": {},
     "output_type": "display_data"
    }
   ],
   "source": [
    "<!DOCTYPE html>\n",
    "<html lang=\"en\">\n",
    "<head>\n",
    "    <meta charset=\"UTF-8\">\n",
    "    <meta http-equiv=\"X-UA-Compatible\" content=\"IE=edge\">\n",
    "    <meta name=\"viewport\" content=\"width=device-width, initial-scale=1.0\">\n",
    "    <title>ShopTime</title>\n",
    "</head>\n",
    "<body>\n",
    "    <form action=\"\" align=\"center\">\n",
    "        <table align=\"center\">\n",
    "            <caption><h1>Sign Up</h1></caption>\n",
    "            <tr>\n",
    "                <td>\n",
    "                    <label for=\"\">First Name:</label>\n",
    "                    <td><input type=\"text\"></td>\n",
    "                </td>\n",
    "            </tr>\n",
    "            <tr>\n",
    "                <td>\n",
    "                    <label for=\"\">Email:</label>\n",
    "                    <td><input type=\"email\"></td>\n",
    "                </td>\n",
    "            </tr>\n",
    "            <tr>\n",
    "                <td>\n",
    "                    <label for=\"\">Date of birth:</label>\n",
    "                    <td><input type=\"date\"></td>\n",
    "                </td>\n",
    "            </tr>\n",
    "            <tr>\n",
    "                <td>\n",
    "                    <label for=\"\">Gender:</label>\n",
    "                    <td>\n",
    "                        <input type=\"radio\" name=\"gender\" value=\"male\">Male\n",
    "                        <input type=\"radio\" name=\"gender\" value=\"female\">Female\n",
    "                    </td>\n",
    "                </td>\n",
    "            </tr>\n",
    "            <tr>\n",
    "                <td>\n",
    "                    <label for=\"\">First Name:</label>\n",
    "                    <td><input type=\"text\"></td>\n",
    "                </td>\n",
    "            </tr>\n",
    "        </table>\n",
    "    </form>\n",
    "</body>\n",
    "</html>"
   ]
  }
 ],
 "metadata": {
  "language_info": {
   "name": "python"
  },
  "orig_nbformat": 4
 },
 "nbformat": 4,
 "nbformat_minor": 2
}
